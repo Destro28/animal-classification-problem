{
 "cells": [
  {
   "cell_type": "code",
   "execution_count": 19,
   "id": "363667b5",
   "metadata": {
    "execution": {
     "iopub.execute_input": "2025-06-12T18:02:07.084770Z",
     "iopub.status.busy": "2025-06-12T18:02:07.084142Z",
     "iopub.status.idle": "2025-06-12T18:02:07.089546Z",
     "shell.execute_reply": "2025-06-12T18:02:07.088829Z",
     "shell.execute_reply.started": "2025-06-12T18:02:07.084747Z"
    },
    "trusted": true
   },
   "outputs": [],
   "source": [
    "import matplotlib.pyplot as plt\n",
    "import os\n",
    "import pandas as pd\n",
    "import numpy as np\n",
    "\n",
    "\n",
    "# import seaborn as sns\n",
    "\n",
    "# imports the Image module from the Python Imaging Library (PIL)\n",
    "from PIL import Image\n",
    "import cv2\n",
    "\n",
    "# Split data\n",
    "from sklearn.model_selection import train_test_split\n",
    "# Image preprocessing\n",
    "from tensorflow.keras.preprocessing.image import ImageDataGenerator\n",
    "\n",
    "import tensorflow as tf\n",
    "# import keras\n",
    "# Use transfer learning from EfficientNetB3 model\n",
    "from tensorflow.keras.applications import EfficientNetB3\n",
    "from tensorflow.keras.callbacks import EarlyStopping\n",
    "# Use preprocess input from EfficientNetB3, \n",
    "# because different model may need different preprocess/rescale\n",
    "# The preprocess_input function applies the same normalization, \n",
    "# ensuring that your input images match the distribution expected by the model\n",
    "from tensorflow.keras.applications.efficientnet import preprocess_input\n",
    "from tensorflow.keras.models import Sequential, Model\n",
    "# from tensorflow.keras.layers import Dense, Conv2D, MaxPooling2D, Flatten, Dropout\n",
    "from tensorflow.keras.layers import GlobalAveragePooling2D, Dense, Dropout"
   ]
  },
  {
   "cell_type": "code",
   "execution_count": 20,
   "id": "2593a231-e9aa-4636-bc62-da765a53675e",
   "metadata": {
    "execution": {
     "iopub.execute_input": "2025-06-12T18:02:11.117913Z",
     "iopub.status.busy": "2025-06-12T18:02:11.117342Z",
     "iopub.status.idle": "2025-06-12T18:02:11.121919Z",
     "shell.execute_reply": "2025-06-12T18:02:11.121189Z",
     "shell.execute_reply.started": "2025-06-12T18:02:11.117893Z"
    },
    "trusted": true
   },
   "outputs": [
    {
     "name": "stdout",
     "output_type": "stream",
     "text": [
      "[PhysicalDevice(name='/physical_device:GPU:0', device_type='GPU'), PhysicalDevice(name='/physical_device:GPU:1', device_type='GPU')]\n"
     ]
    }
   ],
   "source": [
    "import tensorflow as tf\n",
    "print(tf.config.list_physical_devices('GPU'))\n"
   ]
  },
  {
   "cell_type": "code",
   "execution_count": 21,
   "id": "82139b38",
   "metadata": {
    "execution": {
     "iopub.execute_input": "2025-06-12T18:02:12.983255Z",
     "iopub.status.busy": "2025-06-12T18:02:12.982717Z",
     "iopub.status.idle": "2025-06-12T18:02:12.995598Z",
     "shell.execute_reply": "2025-06-12T18:02:12.994845Z",
     "shell.execute_reply.started": "2025-06-12T18:02:12.983232Z"
    },
    "trusted": true
   },
   "outputs": [
    {
     "name": "stdout",
     "output_type": "stream",
     "text": [
      "horse: 2705\n",
      "---------------\n",
      "lion: 2675\n",
      "---------------\n",
      "dog: 2627\n",
      "---------------\n",
      "elephant: 2730\n",
      "---------------\n",
      "cat: 2737\n",
      "---------------\n",
      "\n",
      "Total: 13474\n"
     ]
    }
   ],
   "source": [
    "dataset_dir = '/kaggle/input/animals/animals/train'\n",
    "\n",
    "def print_images_resolution(directory):\n",
    "    unique_sizes = set()\n",
    "    total_images = 0\n",
    "\n",
    "    for subdir in os.listdir(directory):\n",
    "        subdir_path = os.path.join(directory, subdir)\n",
    "        image_files = os.listdir(subdir_path)\n",
    "        num_images = len(image_files)\n",
    "        print(f\"{subdir}: {num_images}\")\n",
    "        total_images += num_images\n",
    "\n",
    "        print(\"---------------\")\n",
    "\n",
    "    print(f\"\\nTotal: {total_images}\")\n",
    "\n",
    "print_images_resolution(dataset_dir)"
   ]
  },
  {
   "cell_type": "code",
   "execution_count": 22,
   "id": "99a5dbcb",
   "metadata": {
    "execution": {
     "iopub.execute_input": "2025-06-12T18:02:16.458947Z",
     "iopub.status.busy": "2025-06-12T18:02:16.458681Z",
     "iopub.status.idle": "2025-06-12T18:02:16.480735Z",
     "shell.execute_reply": "2025-06-12T18:02:16.480059Z",
     "shell.execute_reply.started": "2025-06-12T18:02:16.458927Z"
    },
    "trusted": true
   },
   "outputs": [],
   "source": [
    "classes = os.listdir(dataset_dir)\n",
    "\n",
    "# Collect all image file paths and labels\n",
    "image_paths = []\n",
    "label = []\n",
    "\n",
    "for class_label in classes:\n",
    "    class_folder = os.path.join(dataset_dir, class_label)\n",
    "    for img_file in os.listdir(class_folder):\n",
    "        image_paths.append(os.path.join(class_folder, img_file))\n",
    "        label.append(class_label)"
   ]
  },
  {
   "cell_type": "code",
   "execution_count": 23,
   "id": "f31cfc6b",
   "metadata": {
    "execution": {
     "iopub.execute_input": "2025-06-12T18:02:18.333048Z",
     "iopub.status.busy": "2025-06-12T18:02:18.332489Z",
     "iopub.status.idle": "2025-06-12T18:02:18.350594Z",
     "shell.execute_reply": "2025-06-12T18:02:18.349913Z",
     "shell.execute_reply.started": "2025-06-12T18:02:18.333009Z"
    },
    "trusted": true
   },
   "outputs": [],
   "source": [
    "from sklearn.preprocessing import LabelEncoder\n",
    "from tensorflow.keras.utils import to_categorical\n",
    "\n",
    "le = LabelEncoder()\n",
    "labels_encoded = le.fit_transform(label)\n",
    "labels_categorical = to_categorical(labels_encoded)\n",
    "\n",
    "train_paths, val_paths, train_labels, val_labels = train_test_split(\n",
    "    image_paths, labels_categorical, test_size=0.2, stratify=labels_encoded, random_state=23\n",
    ")\n"
   ]
  },
  {
   "cell_type": "code",
   "execution_count": 24,
   "id": "d7b1d09f-cf0d-4137-812d-63083477ddf7",
   "metadata": {
    "execution": {
     "iopub.execute_input": "2025-06-12T18:02:20.904927Z",
     "iopub.status.busy": "2025-06-12T18:02:20.904688Z",
     "iopub.status.idle": "2025-06-12T18:02:21.004531Z",
     "shell.execute_reply": "2025-06-12T18:02:21.003726Z",
     "shell.execute_reply.started": "2025-06-12T18:02:20.904911Z"
    },
    "trusted": true
   },
   "outputs": [],
   "source": [
    "AUTOTUNE = tf.data.AUTOTUNE\n",
    "IMG_SIZE = (224, 224)\n",
    "BATCH_SIZE = 32\n",
    "\n",
    "def process_image(path, label):\n",
    "    img = tf.io.read_file(path)\n",
    "    img = tf.image.decode_jpeg(img, channels=3)\n",
    "    img = tf.image.resize(img, IMG_SIZE)\n",
    "    img = preprocess_input(img)\n",
    "    return img, label\n",
    "\n",
    "train_ds = tf.data.Dataset.from_tensor_slices((train_paths, train_labels))\n",
    "train_ds = (train_ds\n",
    "            .map(process_image, num_parallel_calls=AUTOTUNE)\n",
    "            .shuffle(1024)\n",
    "            .batch(BATCH_SIZE)\n",
    "            .prefetch(AUTOTUNE))\n",
    "\n",
    "val_ds = tf.data.Dataset.from_tensor_slices((val_paths, val_labels))\n",
    "val_ds = (val_ds\n",
    "          .map(process_image, num_parallel_calls=AUTOTUNE)\n",
    "          .batch(BATCH_SIZE)\n",
    "          .prefetch(AUTOTUNE))\n"
   ]
  },
  {
   "cell_type": "code",
   "execution_count": 25,
   "id": "5efb03b6-3f3b-40c9-82d0-ebc3e9fcd250",
   "metadata": {
    "execution": {
     "iopub.execute_input": "2025-06-12T18:02:23.860522Z",
     "iopub.status.busy": "2025-06-12T18:02:23.859914Z",
     "iopub.status.idle": "2025-06-12T18:02:25.439872Z",
     "shell.execute_reply": "2025-06-12T18:02:25.439279Z",
     "shell.execute_reply.started": "2025-06-12T18:02:23.860497Z"
    },
    "trusted": true
   },
   "outputs": [],
   "source": [
    "base_model = EfficientNetB3(\n",
    "    include_top=False,\n",
    "    weights='imagenet',\n",
    "    input_shape=(224, 224, 3)\n",
    ")\n",
    "base_model.trainable = False  # Freeze the base model\n",
    "\n",
    "x = base_model.output\n",
    "x = GlobalAveragePooling2D()(x)\n",
    "x = Dropout(0.4)(x)\n",
    "output = Dense(train_labels.shape[1], activation='softmax')(x)\n",
    "\n",
    "model = Model(inputs=base_model.input, outputs=output)\n",
    "\n",
    "model.compile(optimizer='adam',\n",
    "              loss='categorical_crossentropy',\n",
    "              metrics=['accuracy'])\n"
   ]
  },
  {
   "cell_type": "code",
   "execution_count": 26,
   "id": "3fdbb0fe-9cf6-464b-80e1-5b78094049f9",
   "metadata": {
    "execution": {
     "iopub.execute_input": "2025-06-12T18:02:26.592767Z",
     "iopub.status.busy": "2025-06-12T18:02:26.592098Z",
     "iopub.status.idle": "2025-06-12T18:10:08.551434Z",
     "shell.execute_reply": "2025-06-12T18:10:08.550820Z",
     "shell.execute_reply.started": "2025-06-12T18:02:26.592745Z"
    },
    "trusted": true
   },
   "outputs": [
    {
     "name": "stdout",
     "output_type": "stream",
     "text": [
      "Epoch 1/70\n",
      "\u001b[1m337/337\u001b[0m \u001b[32m━━━━━━━━━━━━━━━━━━━━\u001b[0m\u001b[37m\u001b[0m \u001b[1m100s\u001b[0m 175ms/step - accuracy: 0.8590 - loss: 0.4630 - val_accuracy: 0.9785 - val_loss: 0.0741\n",
      "Epoch 2/70\n",
      "\u001b[1m337/337\u001b[0m \u001b[32m━━━━━━━━━━━━━━━━━━━━\u001b[0m\u001b[37m\u001b[0m \u001b[1m34s\u001b[0m 98ms/step - accuracy: 0.9802 - loss: 0.0701 - val_accuracy: 0.9833 - val_loss: 0.0582\n",
      "Epoch 3/70\n",
      "\u001b[1m337/337\u001b[0m \u001b[32m━━━━━━━━━━━━━━━━━━━━\u001b[0m\u001b[37m\u001b[0m \u001b[1m32s\u001b[0m 92ms/step - accuracy: 0.9847 - loss: 0.0515 - val_accuracy: 0.9833 - val_loss: 0.0537\n",
      "Epoch 4/70\n",
      "\u001b[1m337/337\u001b[0m \u001b[32m━━━━━━━━━━━━━━━━━━━━\u001b[0m\u001b[37m\u001b[0m \u001b[1m33s\u001b[0m 94ms/step - accuracy: 0.9847 - loss: 0.0486 - val_accuracy: 0.9826 - val_loss: 0.0520\n",
      "Epoch 5/70\n",
      "\u001b[1m337/337\u001b[0m \u001b[32m━━━━━━━━━━━━━━━━━━━━\u001b[0m\u001b[37m\u001b[0m \u001b[1m33s\u001b[0m 93ms/step - accuracy: 0.9860 - loss: 0.0446 - val_accuracy: 0.9837 - val_loss: 0.0488\n",
      "Epoch 6/70\n",
      "\u001b[1m337/337\u001b[0m \u001b[32m━━━━━━━━━━━━━━━━━━━━\u001b[0m\u001b[37m\u001b[0m \u001b[1m33s\u001b[0m 93ms/step - accuracy: 0.9869 - loss: 0.0391 - val_accuracy: 0.9818 - val_loss: 0.0491\n",
      "Epoch 7/70\n",
      "\u001b[1m337/337\u001b[0m \u001b[32m━━━━━━━━━━━━━━━━━━━━\u001b[0m\u001b[37m\u001b[0m \u001b[1m33s\u001b[0m 93ms/step - accuracy: 0.9882 - loss: 0.0345 - val_accuracy: 0.9855 - val_loss: 0.0466\n",
      "Epoch 8/70\n",
      "\u001b[1m337/337\u001b[0m \u001b[32m━━━━━━━━━━━━━━━━━━━━\u001b[0m\u001b[37m\u001b[0m \u001b[1m33s\u001b[0m 93ms/step - accuracy: 0.9897 - loss: 0.0328 - val_accuracy: 0.9844 - val_loss: 0.0486\n",
      "Epoch 9/70\n",
      "\u001b[1m337/337\u001b[0m \u001b[32m━━━━━━━━━━━━━━━━━━━━\u001b[0m\u001b[37m\u001b[0m \u001b[1m33s\u001b[0m 93ms/step - accuracy: 0.9850 - loss: 0.0350 - val_accuracy: 0.9837 - val_loss: 0.0515\n",
      "Epoch 10/70\n",
      "\u001b[1m337/337\u001b[0m \u001b[32m━━━━━━━━━━━━━━━━━━━━\u001b[0m\u001b[37m\u001b[0m \u001b[1m33s\u001b[0m 93ms/step - accuracy: 0.9885 - loss: 0.0334 - val_accuracy: 0.9837 - val_loss: 0.0499\n",
      "Epoch 11/70\n",
      "\u001b[1m337/337\u001b[0m \u001b[32m━━━━━━━━━━━━━━━━━━━━\u001b[0m\u001b[37m\u001b[0m \u001b[1m33s\u001b[0m 93ms/step - accuracy: 0.9894 - loss: 0.0304 - val_accuracy: 0.9822 - val_loss: 0.0501\n",
      "Epoch 12/70\n",
      "\u001b[1m337/337\u001b[0m \u001b[32m━━━━━━━━━━━━━━━━━━━━\u001b[0m\u001b[37m\u001b[0m \u001b[1m33s\u001b[0m 93ms/step - accuracy: 0.9893 - loss: 0.0293 - val_accuracy: 0.9837 - val_loss: 0.0509\n"
     ]
    }
   ],
   "source": [
    "early_stopping_cb = EarlyStopping(monitor='val_loss', patience=5, restore_best_weights=True)\n",
    "\n",
    "history = model.fit(\n",
    "    train_ds,\n",
    "    validation_data=val_ds,\n",
    "    epochs=70,\n",
    "    callbacks=[early_stopping_cb]\n",
    ")\n"
   ]
  },
  {
   "cell_type": "code",
   "execution_count": 27,
   "id": "9a96a546-ce64-4582-89c3-ec06a8f17a0c",
   "metadata": {
    "execution": {
     "iopub.execute_input": "2025-06-12T18:11:21.704305Z",
     "iopub.status.busy": "2025-06-12T18:11:21.703638Z",
     "iopub.status.idle": "2025-06-12T18:11:22.276855Z",
     "shell.execute_reply": "2025-06-12T18:11:22.276299Z",
     "shell.execute_reply.started": "2025-06-12T18:11:21.704282Z"
    },
    "trusted": true
   },
   "outputs": [],
   "source": [
    "model.save('/kaggle/working/animal_classifier.h5')\n"
   ]
  },
  {
   "cell_type": "code",
   "execution_count": 28,
   "id": "4d75db13-204c-4d87-8377-a861572ee014",
   "metadata": {
    "execution": {
     "iopub.execute_input": "2025-06-12T18:11:52.713872Z",
     "iopub.status.busy": "2025-06-12T18:11:52.713595Z",
     "iopub.status.idle": "2025-06-12T18:11:52.956979Z",
     "shell.execute_reply": "2025-06-12T18:11:52.956249Z",
     "shell.execute_reply.started": "2025-06-12T18:11:52.713853Z"
    },
    "trusted": true
   },
   "outputs": [
    {
     "data": {
      "image/png": "[encoded data removed]",
      "text/plain": [
       "<Figure size 640x480 with 1 Axes>"
      ]
     },
     "metadata": {},
     "output_type": "display_data"
    }
   ],
   "source": [
    "import matplotlib.pyplot as plt\n",
    "history_dict = history.history\n",
    "loss_values = history_dict[\"loss\"]\n",
    "val_loss_values = history_dict[\"val_loss\"]\n",
    "epochs = range(1, len(loss_values) + 1)\n",
    "plt.plot(epochs, loss_values, \"r--\", label=\"Training loss\")\n",
    "plt.plot(epochs, val_loss_values, \"b\", label=\"Validation loss\")\n",
    "plt.title(\"Training and validation loss\")\n",
    "plt.xlabel(\"Epochs\")\n",
    "plt.ylabel(\"Loss\")\n",
    "plt.legend()\n",
    "plt.show()"
   ]
  },
  {
   "cell_type": "code",
   "execution_count": 29,
   "id": "cca0c67d-5bde-44f3-b281-029bc8a320ce",
   "metadata": {
    "execution": {
     "iopub.execute_input": "2025-06-12T18:12:10.323532Z",
     "iopub.status.busy": "2025-06-12T18:12:10.323255Z",
     "iopub.status.idle": "2025-06-12T18:12:10.491156Z",
     "shell.execute_reply": "2025-06-12T18:12:10.490366Z",
     "shell.execute_reply.started": "2025-06-12T18:12:10.323510Z"
    },
    "trusted": true
   },
   "outputs": [
    {
     "data": {
      "image/png": "[encoded data removed]",
      "text/plain": [
       "<Figure size 640x480 with 1 Axes>"
      ]
     },
     "metadata": {},
     "output_type": "display_data"
    }
   ],
   "source": [
    "plt.clf()\n",
    "acc = history_dict[\"accuracy\"]\n",
    "val_acc = history_dict[\"val_accuracy\"]\n",
    "plt.plot(epochs, acc, \"r--\", label=\"Training acc\")\n",
    "plt.plot(epochs, val_acc, \"b\", label=\"Validation acc\")\n",
    "plt.title(\"Training and validation accuracy\")\n",
    "plt.xlabel(\"Epochs\")\n",
    "plt.ylabel(\"Accuracy\")\n",
    "plt.legend()\n",
    "plt.show()"
   ]
  },
  {
   "cell_type": "code",
   "execution_count": 48,
   "id": "d85e18f2-160e-4629-86fd-90d860c95f9d",
   "metadata": {
    "execution": {
     "iopub.execute_input": "2025-06-12T18:30:03.498796Z",
     "iopub.status.busy": "2025-06-12T18:30:03.498532Z",
     "iopub.status.idle": "2025-06-12T18:30:03.509653Z",
     "shell.execute_reply": "2025-06-12T18:30:03.508893Z",
     "shell.execute_reply.started": "2025-06-12T18:30:03.498778Z"
    },
    "trusted": true
   },
   "outputs": [
    {
     "data": {
      "text/html": [
       "<style>#sk-container-id-3 {color: black;background-color: white;}#sk-container-id-3 pre{padding: 0;}#sk-container-id-3 div.sk-toggleable {background-color: white;}#sk-container-id-3 label.sk-toggleable__label {cursor: pointer;display: block;width: 100%;margin-bottom: 0;padding: 0.3em;box-sizing: border-box;text-align: center;}#sk-container-id-3 label.sk-toggleable__label-arrow:before {content: \"▸\";float: left;margin-right: 0.25em;color: #696969;}#sk-container-id-3 label.sk-toggleable__label-arrow:hover:before {color: black;}#sk-container-id-3 div.sk-estimator:hover label.sk-toggleable__label-arrow:before {color: black;}#sk-container-id-3 div.sk-toggleable__content {max-height: 0;max-width: 0;overflow: hidden;text-align: left;background-color: #f0f8ff;}#sk-container-id-3 div.sk-toggleable__content pre {margin: 0.2em;color: black;border-radius: 0.25em;background-color: #f0f8ff;}#sk-container-id-3 input.sk-toggleable__control:checked~div.sk-toggleable__content {max-height: 200px;max-width: 100%;overflow: auto;}#sk-container-id-3 input.sk-toggleable__control:checked~label.sk-toggleable__label-arrow:before {content: \"▾\";}#sk-container-id-3 div.sk-estimator input.sk-toggleable__control:checked~label.sk-toggleable__label {background-color: #d4ebff;}#sk-container-id-3 div.sk-label input.sk-toggleable__control:checked~label.sk-toggleable__label {background-color: #d4ebff;}#sk-container-id-3 input.sk-hidden--visually {border: 0;clip: rect(1px 1px 1px 1px);clip: rect(1px, 1px, 1px, 1px);height: 1px;margin: -1px;overflow: hidden;padding: 0;position: absolute;width: 1px;}#sk-container-id-3 div.sk-estimator {font-family: monospace;background-color: #f0f8ff;border: 1px dotted black;border-radius: 0.25em;box-sizing: border-box;margin-bottom: 0.5em;}#sk-container-id-3 div.sk-estimator:hover {background-color: #d4ebff;}#sk-container-id-3 div.sk-parallel-item::after {content: \"\";width: 100%;border-bottom: 1px solid gray;flex-grow: 1;}#sk-container-id-3 div.sk-label:hover label.sk-toggleable__label {background-color: #d4ebff;}#sk-container-id-3 div.sk-serial::before {content: \"\";position: absolute;border-left: 1px solid gray;box-sizing: border-box;top: 0;bottom: 0;left: 50%;z-index: 0;}#sk-container-id-3 div.sk-serial {display: flex;flex-direction: column;align-items: center;background-color: white;padding-right: 0.2em;padding-left: 0.2em;position: relative;}#sk-container-id-3 div.sk-item {position: relative;z-index: 1;}#sk-container-id-3 div.sk-parallel {display: flex;align-items: stretch;justify-content: center;background-color: white;position: relative;}#sk-container-id-3 div.sk-item::before, #sk-container-id-3 div.sk-parallel-item::before {content: \"\";position: absolute;border-left: 1px solid gray;box-sizing: border-box;top: 0;bottom: 0;left: 50%;z-index: -1;}#sk-container-id-3 div.sk-parallel-item {display: flex;flex-direction: column;z-index: 1;position: relative;background-color: white;}#sk-container-id-3 div.sk-parallel-item:first-child::after {align-self: flex-end;width: 50%;}#sk-container-id-3 div.sk-parallel-item:last-child::after {align-self: flex-start;width: 50%;}#sk-container-id-3 div.sk-parallel-item:only-child::after {width: 0;}#sk-container-id-3 div.sk-dashed-wrapped {border: 1px dashed gray;margin: 0 0.4em 0.5em 0.4em;box-sizing: border-box;padding-bottom: 0.4em;background-color: white;}#sk-container-id-3 div.sk-label label {font-family: monospace;font-weight: bold;display: inline-block;line-height: 1.2em;}#sk-container-id-3 div.sk-label-container {text-align: center;}#sk-container-id-3 div.sk-container {/* jupyter's `normalize.less` sets `[hidden] { display: none; }` but bootstrap.min.css set `[hidden] { display: none !important; }` so we also need the `!important` here to be able to override the default hidden behavior on the sphinx rendered scikit-learn.org. See: https://github.com/scikit-learn/scikit-learn/issues/21755 */display: inline-block !important;position: relative;}#sk-container-id-3 div.sk-text-repr-fallback {display: none;}</style><div id=\"sk-container-id-3\" class=\"sk-top-container\"><div class=\"sk-text-repr-fallback\"><pre>LabelEncoder()</pre><b>In a Jupyter environment, please rerun this cell to show the HTML representation or trust the notebook. <br />On GitHub, the HTML representation is unable to render, please try loading this page with nbviewer.org.</b></div><div class=\"sk-container\" hidden><div class=\"sk-item\"><div class=\"sk-estimator sk-toggleable\"><input class=\"sk-toggleable__control sk-hidden--visually\" id=\"sk-estimator-id-3\" type=\"checkbox\" checked><label for=\"sk-estimator-id-3\" class=\"sk-toggleable__label sk-toggleable__label-arrow\">LabelEncoder</label><div class=\"sk-toggleable__content\"><pre>LabelEncoder()</pre></div></div></div></div></div>"
      ],
      "text/plain": [
       "LabelEncoder()"
      ]
     },
     "execution_count": 48,
     "metadata": {},
     "output_type": "execute_result"
    }
   ],
   "source": [
    "import numpy as np\n",
    "\n",
    "# If you saved class_indices\n",
    "# class_indices = np.load('class_indices.npy', allow_pickle=True).item()\n",
    "\n",
    "# OR if you're still in the same session and used LabelEncoder:\n",
    "from sklearn.preprocessing import LabelEncoder\n",
    "le = LabelEncoder()\n",
    "le.fit(label)  # Same list used during training\n"
   ]
  },
  {
   "cell_type": "code",
   "execution_count": 49,
   "id": "62f3f8ad-b053-4164-9020-664b4ec0cd60",
   "metadata": {
    "execution": {
     "iopub.execute_input": "2025-06-12T18:30:07.349647Z",
     "iopub.status.busy": "2025-06-12T18:30:07.349162Z",
     "iopub.status.idle": "2025-06-12T18:30:07.353914Z",
     "shell.execute_reply": "2025-06-12T18:30:07.353256Z",
     "shell.execute_reply.started": "2025-06-12T18:30:07.349624Z"
    },
    "trusted": true
   },
   "outputs": [],
   "source": [
    "import tensorflow as tf\n",
    "\n",
    "def load_and_prepare_image(image_path):\n",
    "    img = tf.io.read_file(image_path)\n",
    "    img = tf.image.decode_jpeg(img, channels=3)\n",
    "    img = tf.image.resize(img, (224, 224))\n",
    "    img = tf.expand_dims(img, axis=0)  # Add batch dimension\n",
    "    img = tf.keras.applications.efficientnet.preprocess_input(img)\n",
    "    return img\n"
   ]
  },
  {
   "cell_type": "code",
   "execution_count": 52,
   "id": "6b7c42cb-bcaa-46f9-a1ce-f1e9139541d6",
   "metadata": {
    "execution": {
     "iopub.execute_input": "2025-06-12T18:30:33.347700Z",
     "iopub.status.busy": "2025-06-12T18:30:33.347413Z",
     "iopub.status.idle": "2025-06-12T18:30:33.447667Z",
     "shell.execute_reply": "2025-06-12T18:30:33.447078Z",
     "shell.execute_reply.started": "2025-06-12T18:30:33.347677Z"
    },
    "trusted": true
   },
   "outputs": [
    {
     "name": "stdout",
     "output_type": "stream",
     "text": [
      "\u001b[1m1/1\u001b[0m \u001b[32m━━━━━━━━━━━━━━━━━━━━\u001b[0m\u001b[37m\u001b[0m \u001b[1m0s\u001b[0m 42ms/step\n",
      "Predicted class: dog\n"
     ]
    }
   ],
   "source": [
    "img = load_and_prepare_image(\"/kaggle/input/animals/animals/val/dog/dog10.jpg\")\n",
    "pred = model.predict(img)\n",
    "predicted_class_idx = tf.argmax(pred, axis=1).numpy()[0]\n",
    "predicted_class = le.inverse_transform([predicted_class_idx])[0]\n",
    "\n",
    "print(\"Predicted class:\", predicted_class)\n"
   ]
  },
  {
   "cell_type": "code",
   "execution_count": 53,
   "id": "c6ce0eeb-3db2-4305-9da4-e7f18ca77514",
   "metadata": {
    "execution": {
     "iopub.execute_input": "2025-06-12T18:41:27.492632Z",
     "iopub.status.busy": "2025-06-12T18:41:27.492322Z",
     "iopub.status.idle": "2025-06-12T18:41:27.620552Z",
     "shell.execute_reply": "2025-06-12T18:41:27.619888Z",
     "shell.execute_reply.started": "2025-06-12T18:41:27.492609Z"
    },
    "trusted": true
   },
   "outputs": [
    {
     "name": "stdout",
     "output_type": "stream",
     "text": [
      "\u001b[1m1/1\u001b[0m \u001b[32m━━━━━━━━━━━━━━━━━━━━\u001b[0m\u001b[37m\u001b[0m \u001b[1m0s\u001b[0m 49ms/step\n",
      "Predicted class: cat\n"
     ]
    }
   ],
   "source": [
    "img = load_and_prepare_image(\"/kaggle/input/animals/animals/val/cat/cat10.jpg\")\n",
    "pred = model.predict(img)\n",
    "predicted_class_idx = tf.argmax(pred, axis=1).numpy()[0]\n",
    "predicted_class = le.inverse_transform([predicted_class_idx])[0]\n",
    "\n",
    "print(\"Predicted class:\", predicted_class)\n"
   ]
  },
  {
   "cell_type": "code",
   "execution_count": 54,
   "id": "01dd92d4-f0e3-4f36-8438-64eeb95ea6e2",
   "metadata": {
    "execution": {
     "iopub.execute_input": "2025-06-12T18:42:21.445610Z",
     "iopub.status.busy": "2025-06-12T18:42:21.445340Z",
     "iopub.status.idle": "2025-06-12T18:42:21.548444Z",
     "shell.execute_reply": "2025-06-12T18:42:21.547806Z",
     "shell.execute_reply.started": "2025-06-12T18:42:21.445590Z"
    },
    "trusted": true
   },
   "outputs": [
    {
     "name": "stdout",
     "output_type": "stream",
     "text": [
      "\u001b[1m1/1\u001b[0m \u001b[32m━━━━━━━━━━━━━━━━━━━━\u001b[0m\u001b[37m\u001b[0m \u001b[1m0s\u001b[0m 45ms/step\n",
      "Predicted class: lion\n"
     ]
    }
   ],
   "source": [
    "img = load_and_prepare_image(\"/kaggle/input/animals/animals/val/lion/lion10.jpg\")\n",
    "pred = model.predict(img)\n",
    "predicted_class_idx = tf.argmax(pred, axis=1).numpy()[0]\n",
    "predicted_class = le.inverse_transform([predicted_class_idx])[0]\n",
    "\n",
    "print(\"Predicted class:\", predicted_class)\n"
   ]
  },
  {
   "cell_type": "code",
   "execution_count": 55,
   "id": "46fa8f76-ce00-4406-bbe4-7f7f7f2a4056",
   "metadata": {
    "execution": {
     "iopub.execute_input": "2025-06-12T18:42:53.597477Z",
     "iopub.status.busy": "2025-06-12T18:42:53.597202Z",
     "iopub.status.idle": "2025-06-12T18:42:53.697321Z",
     "shell.execute_reply": "2025-06-12T18:42:53.696732Z",
     "shell.execute_reply.started": "2025-06-12T18:42:53.597458Z"
    },
    "trusted": true
   },
   "outputs": [
    {
     "name": "stdout",
     "output_type": "stream",
     "text": [
      "\u001b[1m1/1\u001b[0m \u001b[32m━━━━━━━━━━━━━━━━━━━━\u001b[0m\u001b[37m\u001b[0m \u001b[1m0s\u001b[0m 42ms/step\n",
      "Predicted class: elephant\n"
     ]
    }
   ],
   "source": [
    "img = load_and_prepare_image(\"/kaggle/input/animals/animals/val/elephant/elephant25.jpg\")\n",
    "pred = model.predict(img)\n",
    "predicted_class_idx = tf.argmax(pred, axis=1).numpy()[0]\n",
    "predicted_class = le.inverse_transform([predicted_class_idx])[0]\n",
    "\n",
    "print(\"Predicted class:\", predicted_class)\n"
   ]
  }
 ],
 "metadata": {
  "kaggle": {
   "accelerator": "nvidiaTeslaT4",
   "dataSources": [
    {
     "datasetId": 4261490,
     "sourceId": 7345877,
     "sourceType": "datasetVersion"
    }
   ],
   "dockerImageVersionId": 31040,
   "isGpuEnabled": true,
   "isInternetEnabled": true,
   "language": "python",
   "sourceType": "notebook"
  },
  "kernelspec": {
   "display_name": "Python 3",
   "language": "python",
   "name": "python3"
  },
  "language_info": {
   "codemirror_mode": {
    "name": "ipython",
    "version": 3
   },
   "file_extension": ".py",
   "mimetype": "text/x-python",
   "name": "python",
   "nbconvert_exporter": "python",
   "pygments_lexer": "ipython3",
   "version": "3.11.11"
  }
 },
 "nbformat": 4,
 "nbformat_minor": 5
}
